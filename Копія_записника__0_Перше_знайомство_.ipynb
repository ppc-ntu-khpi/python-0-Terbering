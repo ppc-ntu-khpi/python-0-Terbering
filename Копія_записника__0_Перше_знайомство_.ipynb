{
  "nbformat": 4,
  "nbformat_minor": 0,
  "metadata": {
    "colab": {
      "provenance": [],
      "collapsed_sections": []
    },
    "kernelspec": {
      "name": "python3",
      "display_name": "Python 3"
    },
    "language_info": {
      "name": "python"
    }
  },
  "cells": [
    {
      "cell_type": "markdown",
      "metadata": {
        "id": "hfPJrXDVab8V"
      },
      "source": [
        "# Перше знайомство з Python REPL"
      ]
    },
    {
      "cell_type": "markdown",
      "metadata": {
        "id": "omeNy4OFdD_h"
      },
      "source": [
        "У ході виконання цієї вправи ви будете використовувати REPL для оголошення змінних і виконання інструкцій."
      ]
    },
    {
      "cell_type": "markdown",
      "metadata": {
        "id": "RpUbBMA_frWR"
      },
      "source": [
        "## Виконання першого оператора Python\n",
        "Python підтримує інтерактивну консоль, в якій можна вводити команди і негайно бачити результат\n",
        "\n",
        "1. Запустіть на виконання наступну комірку з кодом аби потрапити в інтрепретатор Python, який працює в інтерактивному режимі (на локальній машині для цього треба ввести в консолі команду ```python``` )"
      ]
    },
    {
      "cell_type": "code",
      "metadata": {
        "id": "ei0oXo6dbriS",
        "colab": {
          "base_uri": "https://localhost:8080/",
          "height": 505
        },
        "outputId": "685e69d7-7448-4a4b-f4d7-e7fa817f7654"
      },
      "source": [
        "import IPython\n",
        "url = 'https://www.pythonanywhere.com/embedded3/'\n",
        "iframe = '<iframe src=' + url + ' width=95% height=480></iframe>'\n",
        "IPython.display.HTML(iframe)"
      ],
      "execution_count": null,
      "outputs": [
        {
          "output_type": "execute_result",
          "data": {
            "text/html": [
              "<iframe src=https://www.pythonanywhere.com/embedded3/ width=95% height=480></iframe>"
            ],
            "text/plain": [
              "<IPython.core.display.HTML object>"
            ]
          },
          "metadata": {},
          "execution_count": 1
        }
      ]
    },
    {
      "cell_type": "markdown",
      "metadata": {
        "id": "FcSrGdE0gkQp"
      },
      "source": [
        "2. Введіть в консолі, яка відкрилась, такий оператор:\n",
        "``` java\n",
        "print(\"Hello, world!\") \n",
        "```\n",
        "Ви маєте побачити вітання і запит нової команди."
      ]
    },
    {
      "cell_type": "code",
      "source": [
        "print(\"Hello, world\")"
      ],
      "metadata": {
        "id": "L1JzOeZ_kdKp",
        "outputId": "d77734d0-0921-44c8-cdeb-dff24ee41ba4",
        "colab": {
          "base_uri": "https://localhost:8080/"
        }
      },
      "execution_count": null,
      "outputs": [
        {
          "output_type": "stream",
          "name": "stdout",
          "text": [
            "Hello, world\n"
          ]
        }
      ]
    },
    {
      "cell_type": "markdown",
      "metadata": {
        "id": "sojYseo1hQZz"
      },
      "source": [
        "3. Отримайте довідку про оператор print, ввівши в консолі наступне:\n",
        "``` java\n",
        "help(print)\n",
        "```\n",
        "Аби вийти з цього режиму натисніть ``` q```"
      ]
    },
    {
      "cell_type": "code",
      "source": [
        "help(print)"
      ],
      "metadata": {
        "id": "EJCL5zJAkuu4",
        "outputId": "6c54af25-ffe2-4f49-cd23-8b5151ca7a77",
        "colab": {
          "base_uri": "https://localhost:8080/"
        }
      },
      "execution_count": null,
      "outputs": [
        {
          "output_type": "stream",
          "name": "stdout",
          "text": [
            "Help on built-in function print in module builtins:\n",
            "\n",
            "print(...)\n",
            "    print(value, ..., sep=' ', end='\\n', file=sys.stdout, flush=False)\n",
            "    \n",
            "    Prints the values to a stream, or to sys.stdout by default.\n",
            "    Optional keyword arguments:\n",
            "    file:  a file-like object (stream); defaults to the current sys.stdout.\n",
            "    sep:   string inserted between values, default a space.\n",
            "    end:   string appended after the last value, default a newline.\n",
            "    flush: whether to forcibly flush the stream.\n",
            "\n"
          ]
        }
      ]
    },
    {
      "cell_type": "markdown",
      "metadata": {
        "id": "P8JizwUMkl-E"
      },
      "source": [
        "## Оголошення та виведення значень змінних"
      ]
    },
    {
      "cell_type": "markdown",
      "metadata": {
        "id": "VF_wTDdEkuNb"
      },
      "source": [
        "1. Введіть наведений нижче код аби оголосити змінну:\n",
        "``` java\n",
        "PI = 3.14\n",
        "```\n",
        "2. Введіть ім'я змінної аби вивести її значення:\n",
        "``` java\n",
        "PI\n",
        "```\n",
        "3. Виведіть значення \"красиво\", скориставшись оператором print:\n",
        "``` java\n",
        "print(\"PI =\",PI)\n",
        "```"
      ]
    },
    {
      "cell_type": "code",
      "source": [
        "PI = 3.14\n",
        "PI\n",
        "print(\"PI =\",PI)"
      ],
      "metadata": {
        "id": "4XrcQN-sk_SM",
        "outputId": "f340ba40-d49f-4e40-be6e-d265c71558de",
        "colab": {
          "base_uri": "https://localhost:8080/"
        }
      },
      "execution_count": null,
      "outputs": [
        {
          "output_type": "stream",
          "name": "stdout",
          "text": [
            "PI = 3.14\n"
          ]
        }
      ]
    },
    {
      "cell_type": "markdown",
      "metadata": {
        "id": "f5qiF2Lu_66K"
      },
      "source": [
        "До речі, спробуйте ввести \n",
        "```python \n",
        "help(print)\n",
        "```\n",
        "і код з попереднього завдання в наступній комірці - він також спрацює!"
      ]
    },
    {
      "cell_type": "code",
      "source": [
        "help(print)"
      ],
      "metadata": {
        "id": "bL_4RzIOlJf4",
        "outputId": "5bfcb9f2-566a-4562-efd6-80780bc92fd8",
        "colab": {
          "base_uri": "https://localhost:8080/"
        }
      },
      "execution_count": null,
      "outputs": [
        {
          "output_type": "stream",
          "name": "stdout",
          "text": [
            "Help on built-in function print in module builtins:\n",
            "\n",
            "print(...)\n",
            "    print(value, ..., sep=' ', end='\\n', file=sys.stdout, flush=False)\n",
            "    \n",
            "    Prints the values to a stream, or to sys.stdout by default.\n",
            "    Optional keyword arguments:\n",
            "    file:  a file-like object (stream); defaults to the current sys.stdout.\n",
            "    sep:   string inserted between values, default a space.\n",
            "    end:   string appended after the last value, default a newline.\n",
            "    flush: whether to forcibly flush the stream.\n",
            "\n"
          ]
        }
      ]
    },
    {
      "cell_type": "code",
      "metadata": {
        "id": "5th2Vjdu_10w"
      },
      "source": [],
      "execution_count": null,
      "outputs": []
    },
    {
      "cell_type": "markdown",
      "metadata": {
        "id": "rTlYzOyjkmOM"
      },
      "source": [
        "Нагадую, що цю вправу ви також можете виконати на [Microsoft Learn](https://docs.microsoft.com/ru-ru/learn/modules/intro-to-python/5-exercise-output?source=learn)."
      ]
    }
  ]
}