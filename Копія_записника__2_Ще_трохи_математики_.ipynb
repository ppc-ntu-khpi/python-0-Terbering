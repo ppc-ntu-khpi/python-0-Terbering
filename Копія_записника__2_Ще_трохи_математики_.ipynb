{
  "nbformat": 4,
  "nbformat_minor": 0,
  "metadata": {
    "colab": {
      "provenance": [],
      "collapsed_sections": [],
      "toc_visible": true
    },
    "kernelspec": {
      "name": "python3",
      "display_name": "Python 3"
    },
    "language_info": {
      "name": "python"
    }
  },
  "cells": [
    {
      "cell_type": "markdown",
      "metadata": {
        "id": "nspjmpTrxgZS"
      },
      "source": [
        "# Ще трохи математики"
      ]
    },
    {
      "cell_type": "markdown",
      "metadata": {
        "id": "9NqHzlZ2xtID"
      },
      "source": [
        "1. Обчисліть радіус кола, знаючи його площу. Нагадаємо формулу:\n",
        "$$\n",
        "  S=\\pi*R^2 => R =\\sqrt{\\frac{S}{\\pi}}\n",
        "$$\n",
        "Для обчислення скористаємось знайомими функціями ```sqrt``` та ```pi``` з пакету ```math```.\n"
      ]
    },
    {
      "cell_type": "code",
      "metadata": {
        "colab": {
          "base_uri": "https://localhost:8080/"
        },
        "id": "csfYPusD0mWX",
        "outputId": "3b9314fd-2836-4e9c-f8b4-91966d26e02e"
      },
      "source": [
        "from math import sqrt,pi\n",
        "S = float(input('Введіть площу кола: '))\n",
        "r = sqrt(S/pi)\n",
        "print ('Радіус дорівнює %6.3f см' %r)"
      ],
      "execution_count": null,
      "outputs": [
        {
          "output_type": "stream",
          "name": "stdout",
          "text": [
            "Введіть площу кола: 25\n",
            "Радіус дорівнює  2.821 см\n"
          ]
        }
      ]
    },
    {
      "cell_type": "markdown",
      "metadata": {
        "id": "e7Ed3mEp11Rw"
      },
      "source": [
        "2. А тепер за зразком знайдіть в наступній комірці площу сфери та об'єм кулі. Нагадуємо формули:\n",
        "$$\n",
        "  S=4*\\pi*R^2    \n",
        "$$\n",
        "$$\n",
        "  V=\\frac{4}{3}*\\pi*R^3\n",
        "$$\n",
        "Також нагадаємо, що ступінь в Python задається так: ```**```"
      ]
    },
    {
      "cell_type": "code",
      "metadata": {
        "id": "sTFMO4Xp3fgO",
        "outputId": "15e96b3b-6831-40fc-95df-bbfcdefe1189",
        "colab": {
          "base_uri": "https://localhost:8080/"
        }
      },
      "source": [
        "R1 = float(input('Введіть радіус сфери: '))\n",
        "S = 4 * 3.14 * R2\n",
        "print ('Площа сфери %6.3f см2' %S)\n",
        "\n",
        "R2 = float(input('Введіть радіус кулі: '))\n",
        "V = (4/3) * 3.14 * R2\n",
        "print (\"Об'єм кулі: %6.3f см\" %V)\n",
        "F = float(input('Уведівть градуси у Фаренгейтах: '))\n",
        "Cf = round((F - 32) * 0.5556, 1)\n",
        "print(f\"Градуси Цельсія з градусів за Фаренгейтом: {Cf}\")"
      ],
      "execution_count": null,
      "outputs": [
        {
          "output_type": "stream",
          "name": "stdout",
          "text": [
            "Введіть радіус сфери: 355\n",
            "Площа сфери 502.400 см2\n",
            "Введіть радіус кулі: 24\n",
            "Об'єм кулі: 100.480 см\n",
            "Уведівть градуси у Фаренгейтах: 12\n",
            "Градуси Цельсія з градусів за Фаренгейтом: -11.1\n"
          ]
        }
      ]
    },
    {
      "cell_type": "markdown",
      "metadata": {
        "id": "Ki46Slel5ASd"
      },
      "source": [
        "3. А ще давайте переведемо температуру за Фаренгейтом у градуси Цельсія і навпаки. Формули тут надзвичайно прості:\n",
        "$$\n",
        "  C=(F-32)*0.5556\n",
        "$$\n",
        "$$\n",
        "  F=C*1.8+32\n",
        "$$\n",
        "Спробуйте в наступній комірці! Пам'ятайте про \"красиве\" введення і виведення даних."
      ]
    },
    {
      "cell_type": "code",
      "metadata": {
        "id": "8yhfAwYm5E_z",
        "outputId": "7b7f4d26-98dc-448e-fff1-bdccbb2f8aae",
        "colab": {
          "base_uri": "https://localhost:8080/"
        }
      },
      "source": [
        "C = float(input('Уведіть градучи у Цельсіях: '))\n",
        "Fc = round(C * 1.8 + 32, 1)\n",
        "print(f\"Градуси за Фаренгейтом з градусів Цельсія: {Fc}\")"
      ],
      "execution_count": null,
      "outputs": [
        {
          "output_type": "stream",
          "name": "stdout",
          "text": [
            "Уведіть градучи у Цельсіях: 43\n",
            "Градуси за Фаренгейтом з градусів Цельсія: 109.4\n"
          ]
        }
      ]
    },
    {
      "cell_type": "markdown",
      "metadata": {
        "id": "rnapogmC6dta"
      },
      "source": [
        "Ще більше простих вправ з Python - [тут](https://www.w3resource.com/python-exercises/python-basic-exercises.php)"
      ]
    }
  ]
}